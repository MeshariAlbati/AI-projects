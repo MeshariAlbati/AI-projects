{
 "cells": [
  {
   "cell_type": "markdown",
   "id": "header-cell",
   "metadata": {},
   "source": [
    "# Deep Neural Network Project - Auto MPG Dataset\n",
    "\n",
    "\n",
    "A PyTorch-based neural network implementation that predicts vehicle fuel consumption (MPG) with 86% accuracy. This project demonstrates end-to-end machine learning pipeline including data preprocessing, feature engineering, model training, and performance visualization using the classic UCI Auto MPG dataset.\n",
    "\n",
    "**Key Achievements:** R² Score: 0.8637 | MAE: 2.03 MPG "
   ]
  },
  {
   "cell_type": "markdown",
   "id": "imports-header",
   "metadata": {},
   "source": [
    "## 1. Library Imports\n",
    "\n",
    "Import necessary libraries for data processing, neural network creation, and model training."
   ]
  },
  {
   "cell_type": "code",
   "execution_count": 1,
   "id": "5104408a-68e3-410f-9e28-1c09d8bd7880",
   "metadata": {},
   "outputs": [],
   "source": [
    "import pandas as pd\n",
    "import sklearn\n",
    "from sklearn.model_selection import train_test_split\n",
    "import torch\n",
    "import torch.nn as nn\n",
    "from torch.nn.functional import one_hot\n",
    "from torch.utils.data import TensorDataset, DataLoader"
   ]
  },
  {
   "cell_type": "markdown",
   "id": "data-loading-header",
   "metadata": {},
   "source": [
    "## 2. Data Loading and Preprocessing\n",
    "\n",
    "Load the Auto MPG dataset from UCI repository and handle missing values."
   ]
  },
  {
   "cell_type": "code",
   "execution_count": 2,
   "id": "6c8bc7c4-e1d5-446c-af09-c844e13e3e14",
   "metadata": {},
   "outputs": [],
   "source": [
    "url = 'http://archive.ics.uci.edu/ml/machine-learning-databases/auto-mpg/auto-mpg.data'\n",
    "column_names = ['MPG', 'Cylinders', 'Displacement', 'Horsepower', 'Weight', 'Acceleration', 'Model Year', 'Origin']\n",
    "\n",
    "df = pd.read_csv(url, names=column_names,\n",
    "                 na_values=\"?\", comment='\\t',\n",
    "                 sep=\" \", skipinitialspace=True)\n",
    "\n",
    "df = df.dropna()\n",
    "df = df.reset_index(drop=True)"
   ]
  },
  {
   "cell_type": "markdown",
   "id": "train-test-split-header",
   "metadata": {},
   "source": [
    "### Train-Test Split\n",
    "\n",
    "Split the data into training (80%) and testing (20%) sets."
   ]
  },
  {
   "cell_type": "code",
   "execution_count": 3,
   "id": "426461a2-6e48-4034-a257-c004e086410b",
   "metadata": {},
   "outputs": [],
   "source": [
    "df_train , df_test = train_test_split(df, train_size=0.8,random_state=1)"
   ]
  },
  {
   "cell_type": "code",
   "execution_count": 4,
   "id": "afcd667e-8758-4c59-9d68-32a79986b33d",
   "metadata": {},
   "outputs": [],
   "source": [
    "train_stats = df_train.describe().transpose()"
   ]
  },
  {
   "cell_type": "markdown",
   "id": "normalization-header",
   "metadata": {},
   "source": [
    "### Feature Normalization\n",
    "\n",
    "Normalize numerical features using z-score normalization (mean=0, std=1)."
   ]
  },
  {
   "cell_type": "code",
   "execution_count": 5,
   "id": "487e868a-ef54-4838-95d4-fa49424cf8cc",
   "metadata": {},
   "outputs": [],
   "source": [
    "numeric_column_names = [\n",
    "    'Cylinders', 'Displacement',\n",
    "    'Horsepower', 'Weight',\n",
    "    'Acceleration'\n",
    "]"
   ]
  },
  {
   "cell_type": "code",
   "execution_count": 6,
   "id": "95c451b3-1f95-41ab-905f-f3f2bed0c493",
   "metadata": {},
   "outputs": [
    {
     "name": "stderr",
     "output_type": "stream",
     "text": [
      "/var/folders/nd/4yx58_596_17_9wz_k7lbl0h0000gn/T/ipykernel_50264/1145731629.py:5: FutureWarning: Setting an item of incompatible dtype is deprecated and will raise in a future error of pandas. Value '[-0.8243028   0.3511267  -0.8243028  -0.8243028  -0.8243028   1.52655621\n",
      "  0.3511267  -0.8243028  -0.8243028  -0.8243028   0.3511267  -0.8243028\n",
      "  0.3511267   1.52655621  1.52655621  1.52655621  0.3511267   1.52655621\n",
      " -0.8243028   0.3511267   1.52655621 -0.8243028  -0.8243028   0.3511267\n",
      " -0.8243028  -0.8243028  -0.8243028   0.3511267  -0.8243028   1.52655621\n",
      "  0.3511267  -0.8243028   0.3511267  -0.8243028  -0.8243028   1.52655621\n",
      " -0.8243028   1.52655621  1.52655621 -0.8243028  -0.8243028  -0.8243028\n",
      " -0.8243028   0.3511267  -0.8243028   1.52655621 -0.8243028  -0.8243028\n",
      "  1.52655621 -0.8243028  -0.8243028  -0.8243028   1.52655621  1.52655621\n",
      "  0.3511267   0.3511267   1.52655621 -0.8243028  -0.8243028   1.52655621\n",
      "  1.52655621 -0.8243028  -0.8243028   0.3511267   1.52655621 -0.8243028\n",
      "  0.3511267  -0.8243028   1.52655621  1.52655621 -0.8243028  -0.8243028\n",
      " -1.41201755  1.52655621  0.3511267   1.52655621 -0.8243028  -0.8243028\n",
      " -0.8243028   1.52655621  1.52655621  0.3511267   0.3511267   1.52655621\n",
      " -0.8243028   1.52655621 -0.23658805 -0.8243028  -0.8243028   0.3511267\n",
      "  0.3511267  -1.41201755 -0.8243028   1.52655621 -0.8243028   1.52655621\n",
      " -0.8243028   1.52655621  0.3511267  -0.8243028   0.3511267  -1.41201755\n",
      "  0.3511267  -0.8243028  -0.8243028  -0.8243028  -0.8243028  -0.8243028\n",
      " -0.8243028   1.52655621  1.52655621 -0.8243028   0.3511267  -0.8243028\n",
      " -0.8243028   0.3511267   1.52655621 -0.8243028  -0.8243028   0.3511267\n",
      "  0.3511267  -0.8243028  -0.8243028  -0.23658805 -0.8243028   0.3511267\n",
      "  0.3511267   0.3511267  -0.8243028   1.52655621  1.52655621 -0.8243028\n",
      "  0.3511267   1.52655621  1.52655621 -0.8243028   0.3511267   0.3511267\n",
      " -0.8243028  -0.8243028  -0.8243028  -0.8243028   1.52655621 -0.8243028\n",
      " -0.8243028   0.3511267  -0.8243028  -0.8243028   1.52655621 -0.8243028\n",
      "  1.52655621 -0.8243028  -0.8243028   1.52655621  1.52655621 -0.8243028\n",
      "  0.3511267  -0.8243028   1.52655621  0.3511267  -0.8243028   1.52655621\n",
      " -0.8243028  -0.8243028   1.52655621  1.52655621 -0.8243028   1.52655621\n",
      "  0.3511267  -0.8243028  -0.8243028   0.3511267   1.52655621  1.52655621\n",
      " -0.8243028  -0.8243028  -0.8243028  -0.8243028  -0.8243028  -0.8243028\n",
      " -0.8243028   1.52655621 -0.8243028   0.3511267   1.52655621 -0.8243028\n",
      " -0.23658805 -0.8243028  -0.8243028  -0.8243028  -0.8243028  -0.8243028\n",
      "  0.3511267  -0.8243028  -0.8243028   1.52655621  1.52655621 -0.8243028\n",
      "  1.52655621 -0.8243028   1.52655621 -0.8243028  -0.8243028  -0.8243028\n",
      " -0.8243028   0.3511267  -0.8243028   1.52655621 -0.8243028   0.3511267\n",
      "  1.52655621 -0.8243028  -0.8243028  -0.8243028   0.3511267  -0.8243028\n",
      " -0.8243028  -0.8243028  -0.8243028   0.3511267  -0.8243028   1.52655621\n",
      " -0.8243028  -0.8243028  -0.8243028   1.52655621 -0.8243028   1.52655621\n",
      " -0.8243028   0.3511267  -0.8243028   0.3511267  -0.8243028  -0.8243028\n",
      "  0.3511267   1.52655621 -0.8243028   0.3511267   1.52655621  0.3511267\n",
      " -0.8243028  -0.8243028  -0.8243028   1.52655621  1.52655621 -0.8243028\n",
      " -0.8243028  -0.8243028   1.52655621  0.3511267   0.3511267  -0.8243028\n",
      " -0.8243028  -0.8243028   1.52655621  0.3511267   0.3511267   0.3511267\n",
      "  1.52655621 -0.8243028   1.52655621  0.3511267  -0.8243028  -0.8243028\n",
      " -0.8243028  -0.8243028   1.52655621 -0.8243028   1.52655621 -0.8243028\n",
      "  1.52655621 -0.8243028  -0.8243028  -0.8243028  -0.8243028  -0.8243028\n",
      "  1.52655621 -0.8243028  -0.8243028  -0.8243028   0.3511267  -0.8243028\n",
      "  1.52655621 -0.8243028  -0.8243028  -0.8243028  -0.8243028   1.52655621\n",
      " -0.8243028   1.52655621 -0.8243028  -1.41201755 -0.8243028   1.52655621\n",
      " -0.8243028   1.52655621  0.3511267   0.3511267   0.3511267  -0.8243028\n",
      " -0.8243028   0.3511267  -0.8243028   1.52655621 -0.8243028  -0.8243028\n",
      " -0.8243028   0.3511267  -0.8243028   0.3511267   1.52655621 -0.8243028\n",
      "  1.52655621]' has dtype incompatible with int64, please explicitly cast to a compatible dtype first.\n",
      "  df_train_norm.loc[: , col_name] = (df_train_norm.loc[: , col_name]-mean)/std\n",
      "/var/folders/nd/4yx58_596_17_9wz_k7lbl0h0000gn/T/ipykernel_50264/1145731629.py:6: FutureWarning: Setting an item of incompatible dtype is deprecated and will raise in a future error of pandas. Value '[-0.8243028  -0.8243028  -0.8243028  -0.8243028  -0.8243028  -0.8243028\n",
      " -0.8243028   1.52655621 -0.8243028  -0.8243028   0.3511267  -0.8243028\n",
      "  1.52655621 -0.8243028  -0.8243028   1.52655621 -0.8243028  -0.8243028\n",
      "  1.52655621  0.3511267  -0.8243028   0.3511267   1.52655621  1.52655621\n",
      "  1.52655621  1.52655621 -0.8243028   0.3511267   0.3511267  -0.8243028\n",
      "  1.52655621 -0.8243028   1.52655621  0.3511267   0.3511267   1.52655621\n",
      "  0.3511267   0.3511267  -0.8243028  -0.8243028   1.52655621  1.52655621\n",
      "  0.3511267   0.3511267   0.3511267   0.3511267   1.52655621 -0.8243028\n",
      "  0.3511267   1.52655621  1.52655621  0.3511267  -0.8243028  -0.8243028\n",
      " -0.8243028   0.3511267   0.3511267   0.3511267  -0.8243028  -0.8243028\n",
      "  0.3511267  -0.8243028  -0.8243028   1.52655621  0.3511267   0.3511267\n",
      " -0.8243028   1.52655621 -0.8243028   1.52655621 -0.8243028   1.52655621\n",
      "  1.52655621 -0.8243028  -0.8243028  -0.8243028   1.52655621  1.52655621\n",
      "  1.52655621]' has dtype incompatible with int64, please explicitly cast to a compatible dtype first.\n",
      "  df_test_norm.loc[: , col_name] = (df_test_norm.loc[: , col_name]-mean)/std\n"
     ]
    }
   ],
   "source": [
    "df_train_norm, df_test_norm = df_train.copy(), df_test.copy()\n",
    "for col_name in numeric_column_names:\n",
    "    mean = train_stats.loc[col_name,'mean']\n",
    "    std = train_stats.loc[col_name,'std']\n",
    "    df_train_norm.loc[: , col_name] = (df_train_norm.loc[: , col_name]-mean)/std\n",
    "    df_test_norm.loc[: , col_name] = (df_test_norm.loc[: , col_name]-mean)/std"
   ]
  },
  {
   "cell_type": "code",
   "execution_count": 7,
   "id": "236488d2-de11-44db-aaa3-92d099c3787d",
   "metadata": {},
   "outputs": [
    {
     "data": {
      "text/html": [
       "<div>\n",
       "<style scoped>\n",
       "    .dataframe tbody tr th:only-of-type {\n",
       "        vertical-align: middle;\n",
       "    }\n",
       "\n",
       "    .dataframe tbody tr th {\n",
       "        vertical-align: top;\n",
       "    }\n",
       "\n",
       "    .dataframe thead th {\n",
       "        text-align: right;\n",
       "    }\n",
       "</style>\n",
       "<table border=\"1\" class=\"dataframe\">\n",
       "  <thead>\n",
       "    <tr style=\"text-align: right;\">\n",
       "      <th></th>\n",
       "      <th>MPG</th>\n",
       "      <th>Cylinders</th>\n",
       "      <th>Displacement</th>\n",
       "      <th>Horsepower</th>\n",
       "      <th>Weight</th>\n",
       "      <th>Acceleration</th>\n",
       "      <th>Model Year</th>\n",
       "      <th>Origin</th>\n",
       "    </tr>\n",
       "  </thead>\n",
       "  <tbody>\n",
       "    <tr>\n",
       "      <th>203</th>\n",
       "      <td>28.0</td>\n",
       "      <td>-0.824303</td>\n",
       "      <td>-0.901020</td>\n",
       "      <td>-0.736562</td>\n",
       "      <td>-0.950031</td>\n",
       "      <td>0.255202</td>\n",
       "      <td>76</td>\n",
       "      <td>3</td>\n",
       "    </tr>\n",
       "    <tr>\n",
       "      <th>255</th>\n",
       "      <td>19.4</td>\n",
       "      <td>0.351127</td>\n",
       "      <td>0.413800</td>\n",
       "      <td>-0.340982</td>\n",
       "      <td>0.293190</td>\n",
       "      <td>0.548737</td>\n",
       "      <td>78</td>\n",
       "      <td>1</td>\n",
       "    </tr>\n",
       "    <tr>\n",
       "      <th>72</th>\n",
       "      <td>13.0</td>\n",
       "      <td>1.526556</td>\n",
       "      <td>1.144256</td>\n",
       "      <td>0.713897</td>\n",
       "      <td>1.339617</td>\n",
       "      <td>-0.625403</td>\n",
       "      <td>72</td>\n",
       "      <td>1</td>\n",
       "    </tr>\n",
       "    <tr>\n",
       "      <th>235</th>\n",
       "      <td>30.5</td>\n",
       "      <td>-0.824303</td>\n",
       "      <td>-0.891280</td>\n",
       "      <td>-1.053025</td>\n",
       "      <td>-1.072585</td>\n",
       "      <td>0.475353</td>\n",
       "      <td>77</td>\n",
       "      <td>1</td>\n",
       "    </tr>\n",
       "    <tr>\n",
       "      <th>37</th>\n",
       "      <td>14.0</td>\n",
       "      <td>1.526556</td>\n",
       "      <td>1.563051</td>\n",
       "      <td>1.636916</td>\n",
       "      <td>1.470420</td>\n",
       "      <td>-1.359240</td>\n",
       "      <td>71</td>\n",
       "      <td>1</td>\n",
       "    </tr>\n",
       "  </tbody>\n",
       "</table>\n",
       "</div>"
      ],
      "text/plain": [
       "      MPG  Cylinders  Displacement  Horsepower    Weight  Acceleration  \\\n",
       "203  28.0  -0.824303     -0.901020   -0.736562 -0.950031      0.255202   \n",
       "255  19.4   0.351127      0.413800   -0.340982  0.293190      0.548737   \n",
       "72   13.0   1.526556      1.144256    0.713897  1.339617     -0.625403   \n",
       "235  30.5  -0.824303     -0.891280   -1.053025 -1.072585      0.475353   \n",
       "37   14.0   1.526556      1.563051    1.636916  1.470420     -1.359240   \n",
       "\n",
       "     Model Year  Origin  \n",
       "203          76       3  \n",
       "255          78       1  \n",
       "72           72       1  \n",
       "235          77       1  \n",
       "37           71       1  "
      ]
     },
     "execution_count": 7,
     "metadata": {},
     "output_type": "execute_result"
    }
   ],
   "source": [
    "df_train_norm.tail()"
   ]
  },
  {
   "cell_type": "code",
   "execution_count": 8,
   "id": "da85d90b-44eb-4415-bff6-2b1021bbb6e1",
   "metadata": {},
   "outputs": [
    {
     "name": "stdout",
     "output_type": "stream",
     "text": [
      "MPG             float64\n",
      "Cylinders       float64\n",
      "Displacement    float64\n",
      "Horsepower      float64\n",
      "Weight          float64\n",
      "Acceleration    float64\n",
      "Model Year        int64\n",
      "Origin            int64\n",
      "dtype: object\n"
     ]
    }
   ],
   "source": [
    "print(df_train_norm.dtypes)"
   ]
  },
  {
   "cell_type": "markdown",
   "id": "feature-engineering-header",
   "metadata": {},
   "source": [
    "## 3. Feature Engineering\n",
    "\n",
    "### Bucketing Model Year\n",
    "\n",
    "Convert Model Year into categorical buckets to capture temporal patterns."
   ]
  },
  {
   "cell_type": "code",
   "execution_count": 9,
   "id": "82fed405-7d01-4971-bdad-19d74adf82d5",
   "metadata": {},
   "outputs": [],
   "source": [
    "boundries = torch.tensor([73,76,79])\n",
    "v = torch.tensor(df_train_norm['Model Year'].values)\n",
    "df_train_norm['Model Year Bucketed'] = torch.bucketize(\n",
    "    v,boundries, right=True\n",
    ")\n",
    "v = torch.tensor(df_test_norm['Model Year'].values)\n",
    "df_test_norm['Model Year Bucketed'] = torch.bucketize(\n",
    "    v,boundries, right=True\n",
    ")"
   ]
  },
  {
   "cell_type": "code",
   "execution_count": 10,
   "id": "c6be1cba-0069-445a-9755-0d3b2e0e105a",
   "metadata": {},
   "outputs": [],
   "source": [
    "numeric_column_names.append('Model Year Bucketed')"
   ]
  },
  {
   "cell_type": "markdown",
   "id": "one-hot-header",
   "metadata": {},
   "source": [
    "### One-Hot Encoding for Origin\n",
    "\n",
    "Convert the categorical 'Origin' feature into one-hot encoded format."
   ]
  },
  {
   "cell_type": "code",
   "execution_count": 11,
   "id": "e95c47f1-edeb-46b7-b362-ac8e5ca00ce8",
   "metadata": {},
   "outputs": [],
   "source": [
    "total_origin = len(set(df_train_norm['Origin']))\n",
    "origin_encode = one_hot(torch.from_numpy(\n",
    "    df_train_norm['Origin'].values) % total_origin\n",
    ")\n",
    "x_train_numeric = torch.tensor(\n",
    "    df_train_norm[numeric_column_names].values\n",
    ")\n",
    "x_train = torch.cat([x_train_numeric, origin_encode], 1).float()\n",
    "\n",
    "origin_encoded = one_hot(torch.from_numpy(\n",
    "    df_test_norm['Origin'].values) % total_origin)\n",
    "x_test_numeric = torch.tensor(\n",
    "    df_test_norm[numeric_column_names].values)\n",
    "x_test = torch.cat([x_test_numeric, origin_encoded], 1).float()"
   ]
  },
  {
   "cell_type": "markdown",
   "id": "target-prep-header",
   "metadata": {},
   "source": [
    "### Prepare Target Variables"
   ]
  },
  {
   "cell_type": "code",
   "execution_count": 12,
   "id": "cf773e8b-9f7b-4c8e-8713-7cd4a977781f",
   "metadata": {},
   "outputs": [],
   "source": [
    "y_train = torch.tensor(df_train_norm['MPG'].values).float()\n",
    "y_test = torch.tensor(df_test_norm['MPG'].values).float()"
   ]
  },
  {
   "cell_type": "markdown",
   "id": "dataloader-header",
   "metadata": {},
   "source": [
    "## 4. Data Preparation for PyTorch\n",
    "\n",
    "Create PyTorch DataLoader for batch processing during training."
   ]
  },
  {
   "cell_type": "code",
   "execution_count": 13,
   "id": "e79cb658-da10-45ad-adfd-f5038a343071",
   "metadata": {},
   "outputs": [],
   "source": [
    "train_ds = TensorDataset(x_train,y_train)\n",
    "batch_size = 8\n",
    "torch.manual_seed(2)\n",
    "train_dl = DataLoader(train_ds,batch_size,shuffle=True)"
   ]
  },
  {
   "cell_type": "markdown",
   "id": "model-header",
   "metadata": {},
   "source": [
    "## 5. Model Architecture\n",
    "\n",
    "Define a 3-layer neural network:\n",
    "- Input Layer: 9 features\n",
    "- Hidden Layer 1: 8 neurons with ReLU\n",
    "- Hidden Layer 2: 4 neurons with ReLU\n",
    "- Output Layer: 1 neuron (MPG prediction)"
   ]
  },
  {
   "cell_type": "code",
   "execution_count": 14,
   "id": "115e3837-a93b-4277-87af-8b05a9147c8a",
   "metadata": {},
   "outputs": [],
   "source": [
    "input_size = x_train.shape[1]\n",
    "model = nn.Sequential(\n",
    "    nn.Linear(input_size, 8),\n",
    "    nn.ReLU(),\n",
    "    nn.Linear(8,4),\n",
    "    nn.ReLU(),\n",
    "    nn.Linear(4,1)\n",
    ")"
   ]
  },
  {
   "cell_type": "code",
   "execution_count": 15,
   "id": "0ac7993e-0c9d-4e8f-b99f-d70133b328d1",
   "metadata": {},
   "outputs": [
    {
     "data": {
      "text/plain": [
       "Sequential(\n",
       "  (0): Linear(in_features=9, out_features=8, bias=True)\n",
       "  (1): ReLU()\n",
       "  (2): Linear(in_features=8, out_features=4, bias=True)\n",
       "  (3): ReLU()\n",
       "  (4): Linear(in_features=4, out_features=1, bias=True)\n",
       ")"
      ]
     },
     "execution_count": 15,
     "metadata": {},
     "output_type": "execute_result"
    }
   ],
   "source": [
    "model"
   ]
  },
  {
   "cell_type": "markdown",
   "id": "optimizer-header",
   "metadata": {},
   "source": [
    "### Loss Function and Optimizer\n",
    "\n",
    "Use MSE loss for regression and SGD optimizer."
   ]
  },
  {
   "cell_type": "code",
   "execution_count": 16,
   "id": "a8283cde-36ef-4602-afea-e0f0f240e9b5",
   "metadata": {},
   "outputs": [],
   "source": [
    "loss_fn =  nn.MSELoss()\n",
    "optimizer = torch.optim.SGD(model.parameters(), lr=0.001)"
   ]
  },
  {
   "cell_type": "markdown",
   "id": "training-header",
   "metadata": {},
   "source": [
    "## 6. Training Process\n",
    "\n",
    "Train the model for 200 epochs with mini-batch gradient descent."
   ]
  },
  {
   "cell_type": "code",
   "execution_count": 17,
   "id": "7638f119-0085-40fd-93c1-8ebe9571fd1d",
   "metadata": {},
   "outputs": [
    {
     "name": "stdout",
     "output_type": "stream",
     "text": [
      "Epoch 0 loss 298.7666\n",
      "Epoch 20 loss 10.2446\n",
      "Epoch 40 loss 8.0847\n",
      "Epoch 60 loss 7.8784\n",
      "Epoch 80 loss 7.2313\n",
      "Epoch 100 loss 7.0405\n",
      "Epoch 120 loss 6.6518\n",
      "Epoch 140 loss 8.4267\n",
      "Epoch 160 loss 6.3154\n",
      "Epoch 180 loss 6.6101\n"
     ]
    }
   ],
   "source": [
    "torch.manual_seed(2)\n",
    "num_epochs = 200 \n",
    "log_epochs= 20\n",
    "\n",
    "for epoch in range(num_epochs):\n",
    "    loss_hist_train = 0\n",
    "    for xb,yb in train_dl:\n",
    "        pred = model(xb)[:, 0]\n",
    "        loss = loss_fn(pred,yb)\n",
    "        \n",
    "        loss.backward()\n",
    "        \n",
    "        optimizer.step()\n",
    "        optimizer.zero_grad()\n",
    "        loss_hist_train+= loss.item()\n",
    "        \n",
    "    if epoch % log_epochs ==0:\n",
    "        print(f'Epoch {epoch} loss 'f'{loss_hist_train/len(train_dl):.4f}')"
   ]
  },
  {
   "cell_type": "markdown",
   "id": "evaluation-header",
   "metadata": {},
   "source": [
    "## 7. Model Evaluation\n",
    "\n",
    "Evaluate the model performance on the test set using MSE, MAE, and R² metrics."
   ]
  },
  {
   "cell_type": "code",
   "execution_count": 18,
   "id": "84f75778-9f58-4744-8850-1ad5308a5fc4",
   "metadata": {},
   "outputs": [
    {
     "name": "stdout",
     "output_type": "stream",
     "text": [
      "Test MSE: 9.4477\n",
      "Test MAE: 2.0278\n",
      "Test R²: 0.8637\n"
     ]
    }
   ],
   "source": [
    "with torch.no_grad():\n",
    "    pred = model(x_test.float())[:, 0]\n",
    "    loss = loss_fn(pred, y_test)\n",
    "    mae = nn.L1Loss()(pred, y_test).item()\n",
    "    \n",
    "    \n",
    "    ss_total = torch.sum((y_test - torch.mean(y_test))**2)\n",
    "    ss_residual = torch.sum((y_test - pred)**2)\n",
    "    r2_score = 1 - (ss_residual / ss_total)\n",
    "    \n",
    "    print(f'Test MSE: {loss.item():.4f}')\n",
    "    print(f'Test MAE: {mae:.4f}')\n",
    "    print(f'Test R²: {r2_score:.4f}')"
   ]
  },
  {
   "cell_type": "markdown",
   "id": "visualization-header",
   "metadata": {},
   "source": [
    "## 8. Visualizations\n",
    "\n",
    "### Residuals Distribution\n",
    "\n",
    "Visualize the distribution of prediction errors (residuals)."
   ]
  },
  {
   "cell_type": "code",
   "execution_count": 19,
   "id": "71dc5a97-3cd0-4f03-8415-616d5c4a77eb",
   "metadata": {},
   "outputs": [
    {
     "data": {
      "image/png": "[encoded data removed]",
      "text/plain": [
       "<Figure size 640x480 with 1 Axes>"
      ]
     },
     "metadata": {},
     "output_type": "display_data"
    }
   ],
   "source": [
    "import matplotlib.pyplot as plt\n",
    "plt.hist(y_test - pred, bins=20, color='gray', edgecolor='black')\n",
    "plt.xlabel('Residuals (Actual - Predicted)')\n",
    "plt.ylabel('Frequency')\n",
    "plt.title('Residuals Distribution')\n",
    "plt.show()"
   ]
  },
  {
   "cell_type": "markdown",
   "id": "actual-vs-predicted-header",
   "metadata": {},
   "source": [
    "### Actual vs Predicted Values\n",
    "\n",
    "Compare actual MPG values against model predictions."
   ]
  },
  {
   "cell_type": "code",
   "execution_count": 20,
   "id": "ee57f064-9c1f-42e0-8c79-3d1609d93f38",
   "metadata": {},
   "outputs": [
    {
     "data": {
      "image/png": "[encoded data removed]",
      "text/plain": [
       "<Figure size 640x480 with 1 Axes>"
      ]
     },
     "metadata": {},
     "output_type": "display_data"
    }
   ],
   "source": [
    "plt.scatter(y_test, pred, color='blue', alpha=0.5)\n",
    "plt.plot([y_test.min(), y_test.max()], [y_test.min(), y_test.max()], color='red', lw=2)  \n",
    "plt.xlabel('Actual Values')\n",
    "plt.ylabel('Predicted Values')\n",
    "plt.title('Actual vs Predicted')\n",
    "plt.show()"
   ]
  },
  {
   "cell_type": "markdown",
   "id": "conclusions-header",
   "metadata": {},
   "source": [
    "## Conclusions\n",
    "\n",
    "### Model Performance Summary:\n",
    "- **Test MSE**: 9.4477\n",
    "- **Test MAE**: 2.0278 MPG\n",
    "- **Test R²**: 0.8637 (86.37% variance explained)\n",
    "\n",
    "### Key Insights:\n",
    "1. The neural network achieves strong predictive performance\n",
    "2. The simple architecture is sufficient for this dataset\n",
    "3. No significant overfitting observed\n",
    "4. Model predictions are well-calibrated with actual values\n",
    "\n"
   ]
  },
  {
   "cell_type": "code",
   "execution_count": null,
   "id": "1f54c04e-ea28-4fa6-a42a-37ab0020356e",
   "metadata": {},
   "outputs": [],
   "source": []
  }
 ],
 "metadata": {
  "kernelspec": {
   "display_name": "Python (myenv)",
   "language": "python",
   "name": "myenv"
  },
  "language_info": {
   "codemirror_mode": {
    "name": "ipython",
    "version": 3
   },
   "file_extension": ".py",
   "mimetype": "text/x-python",
   "name": "python",
   "nbconvert_exporter": "python",
   "pygments_lexer": "ipython3",
   "version": "3.12.8"
  }
 },
 "nbformat": 4,
 "nbformat_minor": 5
}
