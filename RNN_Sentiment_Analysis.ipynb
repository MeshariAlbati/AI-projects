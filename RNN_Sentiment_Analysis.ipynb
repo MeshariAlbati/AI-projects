{
 "cells": [
  {
   "cell_type": "markdown",
   "id": "b4ddb559-f5cc-4d16-8979-47a8f607b745",
   "metadata": {},
   "source": [
    "# RNN Sentiment Analysis on IMDB Dataset\n",
    "\n",
    "This notebook implements a Recurrent Neural Network (RNN) using LSTM (Long Short-Term Memory) layers for sentiment analysis on the IMDB movie reviews dataset. We'll preprocess 50,000 movie reviews, build a vocabulary, and create a deep learning model that learns to automatically classify whether a review expresses positive or negative sentiment, achieving 85.47% accuracy on the test set."
   ]
  },
  {
   "cell_type": "markdown",
   "id": "03604cce-2b25-4bd3-8e2c-0c314aff9c87",
   "metadata": {},
   "source": [
    "## 1. Data Loading and Preparation"
   ]
  },
  {
   "cell_type": "code",
   "execution_count": 1,
   "id": "8f361adc-e16b-454c-bef5-b532a3fda2f0",
   "metadata": {},
   "outputs": [],
   "source": [
    "from datasets import load_dataset\n",
    "\n",
    "dataset = load_dataset(\"imdb\")\n",
    "train_dataset = dataset['train']\n",
    "test_dataset = dataset['test']\n"
   ]
  },
  {
   "cell_type": "code",
   "execution_count": 2,
   "id": "71fc4795-9072-4ac6-a94f-fa3f7e9e92d6",
   "metadata": {},
   "outputs": [
    {
     "data": {
      "text/plain": [
       "Dataset({\n",
       "    features: ['text', 'label'],\n",
       "    num_rows: 25000\n",
       "})"
      ]
     },
     "execution_count": 2,
     "metadata": {},
     "output_type": "execute_result"
    }
   ],
   "source": [
    "train_dataset"
   ]
  },
  {
   "cell_type": "code",
   "execution_count": 3,
   "id": "54c86c20-a637-44ed-b420-6dde0501eeb7",
   "metadata": {},
   "outputs": [],
   "source": [
    "from torch.utils.data.dataset import random_split\n",
    "import torch\n",
    "torch.manual_seed(1)\n",
    "train_dataset, valid_datasets = random_split(\n",
    "    list(train_dataset), [20000, 5000]\n",
    ")"
   ]
  },
  {
   "cell_type": "markdown",
   "id": "3d454b85-8ae2-45e6-bbb5-145569df61e1",
   "metadata": {},
   "source": [
    "## 2. Text Preprocessing and Tokenization"
   ]
  },
  {
   "cell_type": "code",
   "execution_count": 4,
   "id": "4279518f-b72c-401f-a22e-e3dbaafd88ee",
   "metadata": {},
   "outputs": [],
   "source": [
    "import re\n",
    "from collections import Counter, OrderedDict\n",
    "\n",
    "def tokenizer(text):\n",
    "    text = re.sub(r'<[^>]*>', '', text)  # Remove HTML tags\n",
    "    emoticons = re.findall(r'(?::|;|=)(?:-)?(?:\\)|\\(|D|P)', text.lower())  # Find emoticons\n",
    "    text = re.sub(r'[\\W]+', ' ', text.lower()) + ' '.join(emoticons).replace('-', '')  # Remove non-word chars\n",
    "    tokenized = text.split()\n",
    "    return tokenized"
   ]
  },
  {
   "cell_type": "code",
   "execution_count": 5,
   "id": "23febfc2-2e19-4ed7-bfb3-093cf4003637",
   "metadata": {},
   "outputs": [
    {
     "name": "stdout",
     "output_type": "stream",
     "text": [
      "Vocab-size: 69023\n"
     ]
    }
   ],
   "source": [
    "token_counts = Counter()\n",
    "for item in train_dataset:\n",
    "    text = item['text']  \n",
    "    label = item['label']  \n",
    "    tokens = tokenizer(text)\n",
    "    token_counts.update(tokens)\n",
    "    \n",
    "print('Vocab-size:', len(token_counts))"
   ]
  },
  {
   "cell_type": "code",
   "execution_count": 6,
   "id": "3b2a43dc-f6c0-4543-86b9-43d69fbf6c3e",
   "metadata": {},
   "outputs": [],
   "source": [
    "from collections import OrderedDict\n",
    "\n",
    "\n",
    "sorted_by_freq_tuples = sorted(\n",
    "    token_counts.items(), key=lambda x: x[1], reverse=True\n",
    ")\n",
    "ordered_dict = OrderedDict(sorted_by_freq_tuples)\n",
    "\n",
    "\n",
    "vocab = OrderedDict()\n",
    "\n",
    "\n",
    "for token, freq in ordered_dict.items():\n",
    "    vocab[token] = len(vocab)\n",
    "\n",
    "\n",
    "temp_vocab = OrderedDict()\n",
    "temp_vocab[\"<pad>\"] = 0\n",
    "temp_vocab[\"<unk>\"] = 1\n",
    "\n",
    "\n",
    "for token, idx in vocab.items():\n",
    "    temp_vocab[token] = idx + 2\n",
    "\n",
    "\n",
    "vocab = temp_vocab\n",
    "\n",
    "\n",
    "default_index = 1  # <unk> index\n",
    "\n",
    "\n",
    "def get_indices(tokens):\n",
    "    if isinstance(tokens, str):\n",
    "        return vocab.get(tokens, default_index)\n",
    "    elif isinstance(tokens, list):\n",
    "        return [vocab.get(token, default_index) for token in tokens]\n",
    "\n",
    "\n"
   ]
  },
  {
   "cell_type": "code",
   "execution_count": 7,
   "id": "068d32e9-aa39-4047-ae32-6aaacdfc20d9",
   "metadata": {},
   "outputs": [
    {
     "name": "stdout",
     "output_type": "stream",
     "text": [
      "[11, 7, 35, 457]\n"
     ]
    }
   ],
   "source": [
    "print([vocab[token] for token in ['this', 'is', 'an', 'example']])"
   ]
  },
  {
   "cell_type": "markdown",
   "id": "d2d7343a-110c-4be3-b4e8-27ced9ad5479",
   "metadata": {},
   "source": [
    "## 3. Data Loading and Batching"
   ]
  },
  {
   "cell_type": "code",
   "execution_count": 30,
   "id": "f7f20b83-9697-466a-8135-1d456d714224",
   "metadata": {},
   "outputs": [],
   "source": [
    "def collate_batch(batch):\n",
    "    label_list, text_list, lengths = [], [], []\n",
    "    for item in batch:\n",
    "        \n",
    "        if isinstance(item, dict):\n",
    "            _text = item['text']\n",
    "            _label = item['label']\n",
    "        else:\n",
    "            \n",
    "            _text, _label = item\n",
    "            \n",
    "        label_list.append(float(_label))  \n",
    "        processed_text = torch.tensor(text_pipeline(_text), dtype=torch.int64)\n",
    "        text_list.append(processed_text)\n",
    "        lengths.append(processed_text.size(0))\n",
    "        \n",
    "    label_list = torch.tensor(label_list)\n",
    "    lengths = torch.tensor(lengths)\n",
    "    padded_text_list = nn.utils.rnn.pad_sequence(text_list, batch_first=True)\n",
    "    return padded_text_list, label_list, lengths\n",
    "\n",
    "text_pipeline = lambda x: get_indices(tokenizer(x))"
   ]
  },
  {
   "cell_type": "code",
   "execution_count": 31,
   "id": "9923b2c6-c386-4783-8d14-d4247ae39ed0",
   "metadata": {},
   "outputs": [],
   "source": [
    "batch_size = 32\n",
    "train_dl = DataLoader(train_dataset,batch_size=batch_size,shuffle=True,collate_fn=collate_batch)\n",
    "valid_dl = DataLoader(valid_datasets,batch_size=batch_size,shuffle=False,collate_fn=collate_batch)\n",
    "test_dl =  DataLoader(test_dataset,batch_size=batch_size,shuffle=False,collate_fn=collate_batch)"
   ]
  },
  {
   "cell_type": "code",
   "execution_count": 32,
   "id": "09cde31d-fb58-47fc-a6f8-9d4586fad663",
   "metadata": {},
   "outputs": [
    {
     "data": {
      "text/plain": [
       "625"
      ]
     },
     "execution_count": 32,
     "metadata": {},
     "output_type": "execute_result"
    }
   ],
   "source": [
    "len(train_dl)"
   ]
  },
  {
   "cell_type": "code",
   "execution_count": 33,
   "id": "c5b2dbbb-6749-4511-8c21-4b7c72e3f963",
   "metadata": {},
   "outputs": [],
   "source": [
    "import torch.nn as nn\n"
   ]
  },
  {
   "cell_type": "markdown",
   "id": "ceb0af57-5642-40c6-a33e-15e0ceb9525c",
   "metadata": {},
   "source": [
    "## 4. Model Architecture"
   ]
  },
  {
   "cell_type": "code",
   "execution_count": 34,
   "id": "e7b0a8c7-33ad-4182-b048-9ae18133d341",
   "metadata": {},
   "outputs": [],
   "source": [
    "class RNN(nn.Module):\n",
    "    def __init__(self, vocab_size, embd_dim, rnn_hidden_size, fc_hidden_size):\n",
    "        super().__init__()\n",
    "        self.embedding = nn.Embedding(vocab_size, embd_dim,padding_idx=0)\n",
    "        self.rnn = nn.LSTM(embd_dim, rnn_hidden_size, batch_first= True)\n",
    "        self.fc1 = nn.Linear(rnn_hidden_size, fc_hidden_size)\n",
    "        self.relu = nn.ReLU()\n",
    "        self.fc2 = nn.Linear(fc_hidden_size, 1)\n",
    "        self.sigmoid = nn.Sigmoid()\n",
    "\n",
    "    def forward(self,text,lengths):\n",
    "        out = self.embedding(text)\n",
    "        out = nn.utils.rnn.pack_padded_sequence(\n",
    "            out, lengths.cpu().numpy(), enforce_sorted=False, batch_first=True)\n",
    "        out, (hidden, cell) = self.rnn(out)\n",
    "        out = hidden[-1, :, :]\n",
    "        out = self.fc1(out)\n",
    "        out = self.relu(out)\n",
    "        out = self.fc2(out)\n",
    "        out = self.sigmoid(out)\n",
    "        return out\n",
    "        "
   ]
  },
  {
   "cell_type": "markdown",
   "id": "80abed01-ce9a-4705-ab09-b4865f569947",
   "metadata": {},
   "source": [
    "**Architecture components:**\n",
    "1. **Embedding Layer**: Converts word indices to dense 20-dimensional vectors\n",
    "2. **LSTM Layer**: Processes sequences and captures long-term dependencies (64 hidden units)\n",
    "3. **Fully Connected Layers**:\n",
    "  - First FC layer: 64 → 64 with ReLU activation\n",
    "  - Second FC layer: 64 → 1 for binary classification\n",
    "4. **Sigmoid**: Outputs probability between 0 and 1"
   ]
  },
  {
   "cell_type": "code",
   "execution_count": 35,
   "id": "f7c6150f-d61c-434d-a79d-f807ec22ab95",
   "metadata": {},
   "outputs": [],
   "source": [
    "vocab_size = len(vocab)\n",
    "embed_dim = 20\n",
    "rnn_hidden_size = 64\n",
    "fc_hidden_size = 64\n",
    "torch.manual_seed(1)\n",
    "model = RNN(vocab_size, embed_dim, rnn_hidden_size, fc_hidden_size)"
   ]
  },
  {
   "cell_type": "code",
   "execution_count": 43,
   "id": "d56cdcaf-e45c-4a42-a0c8-a901bf9c15c9",
   "metadata": {},
   "outputs": [
    {
     "data": {
      "text/plain": [
       "RNN(\n",
       "  (embedding): Embedding(69025, 20, padding_idx=0)\n",
       "  (rnn): LSTM(20, 64, batch_first=True)\n",
       "  (fc1): Linear(in_features=64, out_features=64, bias=True)\n",
       "  (relu): ReLU()\n",
       "  (fc2): Linear(in_features=64, out_features=1, bias=True)\n",
       "  (sigmoid): Sigmoid()\n",
       ")"
      ]
     },
     "execution_count": 43,
     "metadata": {},
     "output_type": "execute_result"
    }
   ],
   "source": [
    "device = torch.device(\"mps\" if torch.backends.mps.is_available() else \"cpu\")\n",
    "model.to(device)"
   ]
  },
  {
   "cell_type": "markdown",
   "id": "c1eff3dc-8711-4ef3-9b82-e8db010c60e4",
   "metadata": {},
   "source": [
    "## 5. Training Setup"
   ]
  },
  {
   "cell_type": "code",
   "execution_count": 44,
   "id": "348a4187-2091-4338-9718-3cf751f8ff0c",
   "metadata": {},
   "outputs": [],
   "source": [
    "def train(dataloader):\n",
    "    model.train()\n",
    "    total_acc, total_loss = 0, 0\n",
    "    for text_batch, label_batch, lengths in dataloader:\n",
    "        \n",
    "        text_batch = text_batch.to(device)\n",
    "        label_batch = label_batch.to(device)\n",
    "        \n",
    "        optimizer.zero_grad()\n",
    "        pred = model(text_batch, lengths)[:, 0]\n",
    "        label_batch = label_batch.float()  \n",
    "        loss = loss_fn(pred, label_batch)\n",
    "        loss.backward()\n",
    "        optimizer.step()\n",
    "\n",
    "        total_acc += ((pred >= 0.5).float() == label_batch).float().sum().item()\n",
    "        total_loss += loss.item() * label_batch.size(0)\n",
    "\n",
    "    return total_acc / len(dataloader.dataset), total_loss / len(dataloader.dataset)"
   ]
  },
  {
   "cell_type": "code",
   "execution_count": 45,
   "id": "27a3baa7-edc1-448e-9c1a-34d64b410467",
   "metadata": {},
   "outputs": [],
   "source": [
    "def evaluate(dataloader):\n",
    "    model.eval()\n",
    "    total_acc, total_loss = 0, 0\n",
    "\n",
    "    with torch.no_grad():\n",
    "        for text_batch, label_batch, lengths in dataloader:\n",
    "            \n",
    "            text_batch = text_batch.to(device)\n",
    "            label_batch = label_batch.to(device)\n",
    "            \n",
    "            pred = model(text_batch, lengths)[:, 0]\n",
    "            label_batch = label_batch.float()  \n",
    "            loss = loss_fn(pred, label_batch)\n",
    "            total_acc += ((pred >= 0.5).float() == label_batch).float().sum().item()\n",
    "            total_loss += loss.item() * label_batch.size(0)\n",
    "\n",
    "    return total_acc / len(dataloader.dataset), total_loss / len(dataloader.dataset)"
   ]
  },
  {
   "cell_type": "code",
   "execution_count": 46,
   "id": "753801b2-6640-4904-882c-2ff66f41c4bc",
   "metadata": {},
   "outputs": [],
   "source": [
    "loss_fn = nn.BCELoss()\n",
    "optimizer = torch.optim.Adam(model.parameters(), lr=0.001)"
   ]
  },
  {
   "cell_type": "markdown",
   "id": "4c4fd3de-3091-4dc8-9ba2-d26ab4ed2d4b",
   "metadata": {},
   "source": [
    "## 6. Training Loop and Results"
   ]
  },
  {
   "cell_type": "code",
   "execution_count": 47,
   "id": "f87a0ca9-4c33-40c9-85e3-87dc4323725f",
   "metadata": {},
   "outputs": [
    {
     "name": "stdout",
     "output_type": "stream",
     "text": [
      "Epoch 0 accuracy: 0.7307 val_accuracy: 0.7146\n",
      "Epoch 1 accuracy: 0.7856 val_accuracy: 0.7704\n",
      "Epoch 2 accuracy: 0.8310 val_accuracy: 0.8094\n",
      "Epoch 3 accuracy: 0.8679 val_accuracy: 0.7278\n",
      "Epoch 4 accuracy: 0.8895 val_accuracy: 0.8276\n",
      "Epoch 5 accuracy: 0.9092 val_accuracy: 0.8114\n",
      "Epoch 6 accuracy: 0.8701 val_accuracy: 0.8438\n",
      "Epoch 7 accuracy: 0.9278 val_accuracy: 0.8434\n",
      "Epoch 8 accuracy: 0.9425 val_accuracy: 0.8518\n",
      "Epoch 9 accuracy: 0.9560 val_accuracy: 0.8590\n"
     ]
    }
   ],
   "source": [
    "num_epochs = 10\n",
    "torch.manual_seed(1)\n",
    "for epoch in range(num_epochs):\n",
    "    acc_train, loss_train = train(train_dl)\n",
    "    acc_valid, loss_valid = evaluate(valid_dl)\n",
    "    print(f'Epoch {epoch} accuracy: {acc_train:.4f} val_accuracy: {acc_valid:.4f}')"
   ]
  },
  {
   "cell_type": "code",
   "execution_count": 49,
   "id": "b9f39bd4-cb4d-4741-9cee-37600617f818",
   "metadata": {},
   "outputs": [
    {
     "name": "stdout",
     "output_type": "stream",
     "text": [
      "Test Accuracy: 0.8547 (85.47%)\n",
      "Test Loss: 0.4228\n"
     ]
    }
   ],
   "source": [
    "test_accuracy, test_loss = evaluate(test_dl)\n",
    "print(f\"Test Accuracy: {test_accuracy:.4f} ({test_accuracy*100:.2f}%)\")\n",
    "print(f\"Test Loss: {test_loss:.4f}\")"
   ]
  },
  {
   "cell_type": "markdown",
   "id": "6a2c2c17-aafc-460a-8e9e-dfc750554b9c",
   "metadata": {},
   "source": [
    "## 7. Results Visualization"
   ]
  },
  {
   "cell_type": "code",
   "execution_count": 62,
   "id": "9777e502-eb1a-4a63-b51b-71248efc3816",
   "metadata": {},
   "outputs": [],
   "source": [
    "import matplotlib.pyplot as plt\n",
    "import numpy as np\n",
    "\n",
    "\n",
    "epochs = list(range(10))\n",
    "epoch_train_acc = [0.7307, 0.7856, 0.8310, 0.8679, 0.8895, 0.9092, 0.8701, 0.9278, 0.9425, 0.9560]\n",
    "epoch_valid_acc = [0.7146, 0.7704, 0.8094, 0.7278, 0.8276, 0.8114, 0.8438, 0.8434, 0.8518, 0.8590]\n",
    "\n",
    "test_accuracy = 0.8547\n",
    "test_loss = 0.4228  \n"
   ]
  },
  {
   "cell_type": "code",
   "execution_count": 64,
   "id": "fa7ed3a5-3031-4f3a-84aa-5c550708a21f",
   "metadata": {},
   "outputs": [
    {
     "data": {
      "image/png": "[encoded data removed]",
      "text/plain": [
       "<Figure size 2000x1000 with 1 Axes>"
      ]
     },
     "metadata": {},
     "output_type": "display_data"
    }
   ],
   "source": [
    "plt.figure(figsize=(20, 10))\n",
    "plt.subplot(2, 3, 5)\n",
    "\n",
    "\n",
    "plt.plot(epochs, epoch_train_acc, 'b-', label='Training', linewidth=2, marker='o')\n",
    "plt.plot(epochs, epoch_valid_acc, 'r-', label='Validation', linewidth=2, marker='s')\n",
    "plt.axhline(y=test_accuracy, color='g', linestyle='--', label=f'Test ({test_accuracy:.4f})', linewidth=2)\n",
    "\n",
    "\n",
    "plt.ylabel('Accuracy', fontsize=12)\n",
    "plt.xlabel('Epochs', fontsize=12)\n",
    "plt.title('Model Accuracy', fontsize=14, fontweight='bold')\n",
    "plt.legend(loc='lower right')\n",
    "\n",
    "\n",
    "plt.grid(True, alpha=0.3)\n",
    "plt.ylim([0.5, 1.0])\n",
    "\n",
    "\n",
    "plt.show()"
   ]
  },
  {
   "cell_type": "markdown",
   "id": "4469b523-2ff0-4c25-b3f1-fa03af803179",
   "metadata": {},
   "source": [
    "## Summary\n",
    "\n",
    "This RNN implementation successfully achieves **85.47% accuracy** on IMDB sentiment classification using:\n",
    "\n",
    "- **LSTM architecture** for capturing sequential dependencies\n",
    "- **Word embeddings** for semantic representation\n",
    "- **Proper text preprocessing** with vocabulary management\n",
    "- **Packed sequences** for efficient variable-length processing\n",
    "\n",
    "**Potential improvements:**\n",
    "- Regularization techniques (dropout, weight decay)\n",
    "- Bidirectional LSTM\n",
    "- Attention mechanisms\n",
    "- Pre-trained embeddings (Word2Vec, GloVe)\n",
    "- Learning rate scheduling"
   ]
  },
  {
   "cell_type": "code",
   "execution_count": null,
   "id": "77678d9b-7604-4b5a-a60c-327e67e184be",
   "metadata": {},
   "outputs": [],
   "source": []
  }
 ],
 "metadata": {
  "kernelspec": {
   "display_name": "Python (myenv)",
   "language": "python",
   "name": "myenv"
  },
  "language_info": {
   "codemirror_mode": {
    "name": "ipython",
    "version": 3
   },
   "file_extension": ".py",
   "mimetype": "text/x-python",
   "name": "python",
   "nbconvert_exporter": "python",
   "pygments_lexer": "ipython3",
   "version": "3.12.8"
  }
 },
 "nbformat": 4,
 "nbformat_minor": 5
}
